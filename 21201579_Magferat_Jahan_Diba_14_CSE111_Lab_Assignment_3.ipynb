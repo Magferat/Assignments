{
  "nbformat": 4,
  "nbformat_minor": 0,
  "metadata": {
    "colab": {
      "name": "21201579_Magferat Jahan Diba_14_CSE111 Lab Assignment_3.ipynb",
      "private_outputs": true,
      "provenance": [],
      "collapsed_sections": []
    },
    "kernelspec": {
      "name": "python3",
      "display_name": "Python 3"
    },
    "language_info": {
      "name": "python"
    }
  },
  "cells": [
    {
      "cell_type": "code",
      "source": [
        "#      Name = Magferat Jahan Diba\n",
        "#Student ID = 21201579\n",
        "#   Section = 14  "
      ],
      "metadata": {
        "id": "z0kQsQ517Fvo"
      },
      "execution_count": null,
      "outputs": []
    },
    {
      "cell_type": "markdown",
      "source": [
        "# Task 1"
      ],
      "metadata": {
        "id": "Qje8B-xh71xT"
      }
    },
    {
      "cell_type": "code",
      "source": [
        "class DataType:\n",
        "    def __init__(self, name, value):\n",
        "        self.name = name\n",
        "        self.value = value\n",
        "\n",
        "\n",
        "data_type1 = DataType('Integer', 1234)\n",
        "print(data_type1.name)\n",
        "print(data_type1.value)\n",
        "print('=====================')\n",
        "data_type2 = DataType('String','Hello')\n",
        "print(data_type2.name)\n",
        "print(data_type2.value)\n",
        "print('=====================')\n",
        "data_type3 = DataType('Float', 4.0)\n",
        "print(data_type3.name)\n",
        "print(data_type3.value)"
      ],
      "metadata": {
        "id": "vMyc27U_8I-F"
      },
      "execution_count": null,
      "outputs": []
    },
    {
      "cell_type": "markdown",
      "source": [
        "# Task 2"
      ],
      "metadata": {
        "id": "ETG9I7o79ckw"
      }
    },
    {
      "cell_type": "code",
      "source": [
        "class Flower:\n",
        "    def __init__(self):\n",
        "        self.name = ''\n",
        "        self.color = ''\n",
        "        self.num_of_petal = 0\n",
        "\n",
        "\n",
        "flower1 = Flower()\n",
        "flower1.name=\"Rose\"\n",
        "flower1.color=\"Red\"\n",
        "flower1.num_of_petal=6\n",
        "\n",
        "print(\"Name of this flower:\", flower1.name)\n",
        "print(\"Color of this flower:\",flower1.color)\n",
        "print(\"Number of petal:\",flower1.num_of_petal)\n",
        "print('=====================')\n",
        "flower2 = Flower()\n",
        "flower2.name=\"Orchid\"\n",
        "flower2.color=\"Purple\"\n",
        "flower2.num_of_petal=4\n",
        "\n",
        "print(\"Name of this flower:\",flower2.name)\n",
        "print(\"Color of this flower:\",flower2.color)\n",
        "print(\"Number of petal:\",flower2. num_of_petal)\n",
        "print('========================')\n",
        "print('flower1 adress:', flower1)\n",
        "print('flower2 Adress:', flower2)\n",
        "if flower1 == flower2:\n",
        "    print(f'they are same')\n",
        "else:\n",
        "    print('they are different')\n"
      ],
      "metadata": {
        "id": "J1Qvrpiv9lnz"
      },
      "execution_count": null,
      "outputs": []
    },
    {
      "cell_type": "markdown",
      "source": [
        "# Task 3"
      ],
      "metadata": {
        "id": "_ZiiNCWrFZ83"
      }
    },
    {
      "cell_type": "code",
      "source": [
        "class Wadiya():\n",
        "    def __init__(self):\n",
        "        self.name = 'Aladeen'\n",
        "        self.designation = 'President Prime Minister Admiral General'\n",
        "        self.num_of_wife = 100\n",
        "        self.dictator = True\n",
        "\n",
        "\n",
        "wadiya = Wadiya()\n",
        "print(f'Part 1:\\n'\n",
        "      f'Name of President: {wadiya.name}\\n'\n",
        "      f'Designation: {wadiya.designation}\\n'\n",
        "      f'Number of wife: {wadiya.num_of_wife}\\n'\n",
        "      f'Is he/she a dictator: {wadiya.dictator}')\n",
        "wadiya.name = 'Donald Trump'\n",
        "wadiya.designation = 'President'\n",
        "wadiya.num_of_wife = 1\n",
        "wadiya.dictator = False\n",
        "print(f'Part 2:\\n'\n",
        "      f'Name of President: {wadiya.name}\\n'\n",
        "      f'Designation: {wadiya.designation}\\n'\n",
        "      f'Number of wife: {wadiya.num_of_wife}\\n'\n",
        "      f'Is he/she a dictator: {wadiya.dictator}')\n",
        "print('Previous information lost')"
      ],
      "metadata": {
        "id": "22FaAhCZFdi2"
      },
      "execution_count": null,
      "outputs": []
    },
    {
      "cell_type": "markdown",
      "source": [
        "# Task 4"
      ],
      "metadata": {
        "id": "1cgAR5whqee0"
      }
    },
    {
      "cell_type": "code",
      "source": [
        "class Joker:\n",
        "    def __init__(self, name, power, psycho):\n",
        "        self.name = name\n",
        "        self.power = power\n",
        "        self.is_he_psycho = psycho\n",
        "\n",
        "\n",
        "j1 = Joker('Heath Ledger', 'Mind Game', False)\n",
        "print(j1.name)\n",
        "print(j1.power)\n",
        "print(j1.is_he_psycho)\n",
        "print('=====================')\n",
        "j2 = Joker('Joaquin Phoenix', 'Laughing out Loud', True)\n",
        "print(j2.name)\n",
        "print(j2.power)\n",
        "print(j2.is_he_psycho)\n",
        "print('=====================')\n",
        "if j1 == j2:\n",
        "    print('same')\n",
        "else:\n",
        "    print('different')\n",
        "j2.name = 'Heath Ledger'\n",
        "if j1.name == j2.name:\n",
        "    print('same')\n",
        "else:\n",
        "    print('different')\n",
        "print(f\"Ans 2:\\n\"\n",
        "      f\"j2 and j1 are different object.\"\n",
        "      f\" They are stored in different memory location. That's why the result output is 'different'\")\n",
        "print(f'Ans-3:\\n'\n",
        "      f\"We have overritten the value of j2.name and set a new value which is equal to the value of j1.name \")"
      ],
      "metadata": {
        "id": "rVL9U6FgqiXh"
      },
      "execution_count": null,
      "outputs": []
    },
    {
      "cell_type": "markdown",
      "source": [
        "# Task 5"
      ],
      "metadata": {
        "id": "NwZC9DtMw4Sc"
      }
    },
    {
      "cell_type": "code",
      "source": [
        "class Pokemon:\n",
        "    def __init__(self, name1, name2, p1,p2,rate):\n",
        "        self.pokemon1_name = name1\n",
        "        self.pokemon2_name = name2\n",
        "        self.pokemon1_power = p1\n",
        "        self.pokemon2_power = p2\n",
        "        self.damage_rate = rate\n",
        "\n",
        "\n",
        "team_pika = Pokemon('pikachu', 'charmander', 90, 60, 10)\n",
        "print('=======Team 1=======')\n",
        "print('Pokemon 1:',team_pika.pokemon1_name,team_pika.pokemon1_power)\n",
        "print('Pokemon 2:',team_pika.pokemon2_name,team_pika.pokemon2_power)\n",
        "pika_combined_power = (team_pika.pokemon1_power +team_pika.pokemon2_power) * team_pika.damage_rate\n",
        "print('Combined Power:', pika_combined_power)\n",
        "\n",
        "team_bulb = Pokemon('bulbasaur', 'squirtle', 80, 70, 9)\n",
        "print('=======Team 2=======')\n",
        "print('Pokemon 1:',team_bulb.pokemon1_name,team_bulb.pokemon1_power)\n",
        "print('Pokemon 2:',team_bulb.pokemon2_name,team_bulb.pokemon2_power)\n",
        "pika_combined_power = (team_bulb.pokemon1_power +team_bulb.pokemon2_power) * team_bulb.damage_rate\n",
        "print('Combined Power:', pika_combined_power)"
      ],
      "metadata": {
        "id": "ss4hphS4w7Tc"
      },
      "execution_count": null,
      "outputs": []
    },
    {
      "cell_type": "markdown",
      "source": [
        "# Task 6"
      ],
      "metadata": {
        "id": "7lN5UPNaw_Ed"
      }
    },
    {
      "cell_type": "code",
      "source": [
        "class Player:\n",
        "    def __init__(self):\n",
        "        self.name = ''\n",
        "        self.jersy_number = 0\n",
        "        self.position = ''\n",
        "\n",
        "\n",
        "player1 = Player()\n",
        "player1.name = \"Ronaldo\"\n",
        "player1.jersy_number = 9\n",
        "player1.position = \"Striker\"\n",
        "print(\"Name of the Player:\", player1.name)\n",
        "print(\"Jersey Number of player:\", player1.jersy_number)\n",
        "print(\"Position of player:\", player1.position)\n",
        "print(\"========================================\")\n",
        "player2 = Player()\n",
        "player2.name = \"Neuer\"\n",
        "player2.jersy_number = 1\n",
        "player2.position = \"Goal Keeper\"\n",
        "print(\"Name of the player:\", player2.name)\n",
        "print(\"Jersey Number of player:\", player2.jersy_number)\n",
        "print(\"Position of player:\", player2.position)\n"
      ],
      "metadata": {
        "id": "orWGo3Z9xBtc"
      },
      "execution_count": null,
      "outputs": []
    },
    {
      "cell_type": "markdown",
      "source": [
        "# Task 7"
      ],
      "metadata": {
        "id": "MmDpOh740bHM"
      }
    },
    {
      "cell_type": "code",
      "source": [
        "class Country:\n",
        "    def __init__(self):\n",
        "        self.name = 'Bangladesh'\n",
        "        self.continent = 'Asia'\n",
        "        self.capital = 'Dhaka'\n",
        "        self.fifa_ranking = 187\n",
        "\n",
        "\n",
        "country = Country()\n",
        "print('Name:',country.name)\n",
        "print('Continent:',country.continent)\n",
        "print('Capital:',country.capital)\n",
        "print('Fifa Ranking:',country.fifa_ranking)\n",
        "print('===================')\n",
        "country.name = 'Belgium'\n",
        "country.continent = 'Europe'\n",
        "country.capital = 'Brussels'\n",
        "country.fifa_ranking = 1\n",
        "print('Name:',country.name)\n",
        "print('Continent:',country.continent)\n",
        "print('Capital:',country.capital)\n",
        "print('Fifa Ranking:',country.fifa_ranking)"
      ],
      "metadata": {
        "id": "XFekjVwg0dSl"
      },
      "execution_count": null,
      "outputs": []
    },
    {
      "cell_type": "markdown",
      "source": [
        "# Task 8"
      ],
      "metadata": {
        "id": "TlOVFHQ431Yn"
      }
    },
    {
      "cell_type": "code",
      "source": [
        "class DemonSlayer:\n",
        "    def __init__(self, name, style, nums, kill):\n",
        "        self.name = name\n",
        "        self.style = style\n",
        "        self.number_of_technique = nums\n",
        "        self.kill = kill\n",
        "\n",
        "\n",
        "tanjiro = DemonSlayer(\"Tanjiro\", \"Water Breathing\", 10, 10)\n",
        "print('Name:',tanjiro.name)\n",
        "print('Fighting Style:',tanjiro.style)\n",
        "print(f'Knows {tanjiro.number_of_technique} technique(s) and has killed {tanjiro.kill} demon(s)')\n",
        "print('===================')\n",
        "zenitsu = DemonSlayer(\"Zenitsu\", \"Thunder Breathing\", 1, 4)\n",
        "print('Name:',zenitsu.name)\n",
        "print('Fighting Style:',zenitsu.style)\n",
        "print(f'Knows {zenitsu.number_of_technique} technique(s) and has killed {zenitsu.kill} demon(s)')\n",
        "print('===================')\n",
        "inosuke = DemonSlayer(\"Inosuke\", \"Beast Breathing\", 5, 7)\n",
        "print('Name:',inosuke.name)\n",
        "print('Fighting Style:',inosuke.style)\n",
        "print(f'Knows {inosuke.number_of_technique} technique(s) and has killed {inosuke.kill} demon(s)')\n",
        "print('===================')\n",
        "print(f'{tanjiro.name}, {zenitsu.name}, {inosuke.name} knows total {tanjiro.number_of_technique + zenitsu.number_of_technique + inosuke.number_of_technique} techniques')\n",
        "print(f'They have killed total {tanjiro.kill + zenitsu.kill + inosuke.kill} demons')\n"
      ],
      "metadata": {
        "id": "CQsTYO72327M"
      },
      "execution_count": null,
      "outputs": []
    },
    {
      "cell_type": "markdown",
      "source": [
        "# Task 9"
      ],
      "metadata": {
        "id": "wOdokTt96YPG"
      }
    },
    {
      "cell_type": "code",
      "source": [
        "class box:\n",
        "    def __init__(self, details):\n",
        "        self.height = details[0]\n",
        "        self.width = details[1]\n",
        "        self.breadth = details[2]\n",
        "        volume = self.height*self.width*self.breadth\n",
        "        print(f'Creating a Box!\\n'\n",
        "              f'Volume of the box is {volume} cubic units.')\n",
        "\n",
        "print(\"Box 1\")\n",
        "b1 = box([10,10,10])\n",
        "print(\"=========================\")\n",
        "print(\"Height:\", b1.height)\n",
        "print(\"Width:\", b1.width)\n",
        "print(\"Breadth:\", b1.breadth)\n",
        "print(\"-------------------------\")\n",
        "print(\"Box 2\")\n",
        "b2 = box((30,10,10))\n",
        "print(\"=========================\")\n",
        "print(\"Height:\", b2.height)\n",
        "print(\"Width:\", b2.width)\n",
        "print(\"Breadth:\", b2.breadth)\n",
        "b2.height = 300\n",
        "print(\"Updating Box 2!\")\n",
        "print(\"Height:\", b2.height)\n",
        "print(\"Width:\", b2.width)\n",
        "print(\"Breadth:\", b2.breadth)\n",
        "print(\"-------------------------\")\n",
        "print(\"Box 3\")\n",
        "b3 = b2\n",
        "print(\"Height:\", b3.height)\n",
        "print(\"Width:\", b3.width)\n",
        "print(\"Breadth:\", b3.breadth)\n"
      ],
      "metadata": {
        "id": "MdMabvTw6exN"
      },
      "execution_count": null,
      "outputs": []
    },
    {
      "cell_type": "markdown",
      "source": [
        "# Task 10"
      ],
      "metadata": {
        "id": "m5ziSsutFEgF"
      }
    },
    {
      "cell_type": "code",
      "source": [
        "class buttons:\n",
        "    def __init__(self,word, spaces, border):\n",
        "        self.word = word\n",
        "        self.spaces = spaces\n",
        "        self.border = border\n",
        "        up = 2 + self.spaces*2 + len(self.word)\n",
        "\n",
        "        print(f'{self.word} Button Specification:\\n'\n",
        "              f'Button Name:{self.word}\\n'\n",
        "              f'Number of the border characters for the top and the bottom: {up} \\n'\n",
        "              f'Number of spaces between the left side border and the first character of the button name: {self.spaces}\\n'\n",
        "              f'Number of spaces between the right side border and the last character of the button name: {self.spaces}\\n'\n",
        "              f'Characters representing the borders: {self.border}\\n\\n'\n",
        "              f'{self.border*up}\\n'\n",
        "              f'{self.border}{self.spaces*\" \"}{self.word}{self.spaces*\" \"}{self.border}\\n'\n",
        "              f'{self.border*up}')\n",
        "\n",
        "\n",
        "word = \"CANCEL\"\n",
        "spaces = 10\n",
        "border = 'x'\n",
        "b1 = buttons(word, spaces, border)\n",
        "print(\"=======================================================\")\n",
        "b2 = buttons(\"Notify\",3, '!')\n",
        "print(\"=======================================================\")\n",
        "b3 = buttons('SAVE PROGRESS', 5, '$')"
      ],
      "metadata": {
        "id": "XHxUmgcQFGmw"
      },
      "execution_count": null,
      "outputs": []
    }
  ]
}