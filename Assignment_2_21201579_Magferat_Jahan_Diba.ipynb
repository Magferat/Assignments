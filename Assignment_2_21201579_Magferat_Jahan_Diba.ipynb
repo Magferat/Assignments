{
  "nbformat": 4,
  "nbformat_minor": 0,
  "metadata": {
    "colab": {
      "name": "Assignment 2_21201579_Magferat Jahan Diba.ipynb",
      "provenance": [],
      "collapsed_sections": [],
      "authorship_tag": "ABX9TyN2vnR05LGi9uN6IEbtzVyq",
      "include_colab_link": true
    },
    "kernelspec": {
      "name": "python3",
      "display_name": "Python 3"
    },
    "language_info": {
      "name": "python"
    }
  },
  "cells": [
    {
      "cell_type": "markdown",
      "metadata": {
        "id": "view-in-github",
        "colab_type": "text"
      },
      "source": [
        "<a href=\"https://colab.research.google.com/github/Magferat/Assignments/blob/main/Assignment_2_21201579_Magferat_Jahan_Diba.ipynb\" target=\"_parent\"><img src=\"https://colab.research.google.com/assets/colab-badge.svg\" alt=\"Open In Colab\"/></a>"
      ]
    },
    {
      "cell_type": "code",
      "execution_count": null,
      "metadata": {
        "id": "a9PplkVg8OQv"
      },
      "outputs": [],
      "source": [
        "# Name = Magferat Jahan Diba\n",
        "# Student ID = 21201579\n",
        "# Section = 14"
      ]
    },
    {
      "cell_type": "markdown",
      "source": [
        "# ***Task 1***"
      ],
      "metadata": {
        "id": "R2HgEX9L8cUg"
      }
    },
    {
      "cell_type": "code",
      "source": [
        "# def fraction(a,b):\n",
        "#   if b == 0 or a==0:\n",
        "#     return 0\n",
        "#   else:\n",
        "#     x = a/b\n",
        "#     fraction = x - int(x)\n",
        "#     if 0 < fraction < 1:\n",
        "#       return fraction\n",
        "# print(fraction(5,2))          \n",
        "# print(fraction(5,0))\n",
        "# print(fraction(0,5))                    "
      ],
      "metadata": {
        "id": "H5WCX3gw9dhF",
        "colab": {
          "base_uri": "https://localhost:8080/"
        },
        "outputId": "7dd7eec1-6429-4fbf-bed9-6d3dc0383296"
      },
      "execution_count": null,
      "outputs": [
        {
          "output_type": "stream",
          "name": "stdout",
          "text": [
            "0.5\n",
            "0\n",
            "0\n"
          ]
        }
      ]
    },
    {
      "cell_type": "markdown",
      "source": [
        "# ***Task 2***"
      ],
      "metadata": {
        "id": "FT2gn-Ho-ruA"
      }
    },
    {
      "cell_type": "code",
      "source": [
        "def BMI(height, weight):\n",
        "  height = height / 100\n",
        "  bmi = (weight / (height**2))\n",
        "  x = format(bmi, \".1f\")\n",
        "  if bmi < 18.5 :\n",
        "    output = f\"Score is {x}. you are Underweight\"\n",
        "    return output\n",
        "  elif 18.5 <= bmi <= 24.9:\n",
        "    output = f\"Score is {x}. you are Normal\"\n",
        "    return output\n",
        "  elif 25 <= bmi <= 30:\n",
        "    output = f\"Score is {x}. you are Overweight\"\n",
        "    return output\n",
        "  else:\n",
        "    output = f\"Score is {x}. you are Obese\"\n",
        "    return output\n",
        "print(BMI(175, 96))\n",
        "print(BMI(152, 48))\n"
      ],
      "metadata": {
        "id": "aW-o2kVU-v5_",
        "colab": {
          "base_uri": "https://localhost:8080/"
        },
        "outputId": "2322f519-6268-46c9-8429-8d7f2ca853e4"
      },
      "execution_count": null,
      "outputs": [
        {
          "output_type": "stream",
          "name": "stdout",
          "text": [
            "Score is 31.3. you are Obese\n",
            "Score is 20.8. you are Normal\n"
          ]
        }
      ]
    },
    {
      "cell_type": "markdown",
      "source": [
        "# ***Task 3***"
      ],
      "metadata": {
        "id": "zL3bCNXfFkuf"
      }
    },
    {
      "cell_type": "code",
      "source": [
        "def divisible_sum(min, max, divisor):\n",
        "    total = 0\n",
        "    for i in range(min, max):\n",
        "        d = i % divisor\n",
        "        if d == 0:\n",
        "            total += i\n",
        "    return total\n",
        "print(divisible_sum(0,10,2))\n",
        "print(divisible_sum(3,16,3))"
      ],
      "metadata": {
        "id": "5JjESALUFl-e",
        "colab": {
          "base_uri": "https://localhost:8080/"
        },
        "outputId": "c45bc3f1-7c1c-4867-93ea-f47939dcbda0"
      },
      "execution_count": null,
      "outputs": [
        {
          "output_type": "stream",
          "name": "stdout",
          "text": [
            "20\n",
            "45\n"
          ]
        }
      ]
    },
    {
      "cell_type": "markdown",
      "source": [
        "# ***Task 4***"
      ],
      "metadata": {
        "id": "8H4Scnt3qwWQ"
      }
    },
    {
      "cell_type": "code",
      "source": [
        "price_list = {\"BBQ Chicken Cheese Burger\": 250, \"Beef Burger\": 170, \"Naga Drums\": 200}\n",
        "def food_panda(name, place=\"Mohakhali\"):\n",
        "    total = 0\n",
        "    d_charge = 40\n",
        "    if place != \"Mohakhali\":\n",
        "        d_charge = 60\n",
        "    for burger, price in price_list.items():\n",
        "        if burger == name:\n",
        "            total = price + price * 8 / 100 + d_charge\n",
        "\n",
        "    return total\n",
        "\n",
        "print(food_panda('Beef Burger', 'Dhanmondi'))\n",
        "print(food_panda('Beef Burger'))\n"
      ],
      "metadata": {
        "colab": {
          "base_uri": "https://localhost:8080/"
        },
        "id": "KR7dq4PQv6Xt",
        "outputId": "03b2d2fa-f632-4ade-f4be-0e48678f8706"
      },
      "execution_count": null,
      "outputs": [
        {
          "output_type": "stream",
          "name": "stdout",
          "text": [
            "243.6\n",
            "223.6\n"
          ]
        }
      ]
    },
    {
      "cell_type": "markdown",
      "source": [
        "# ***Task 5***"
      ],
      "metadata": {
        "id": "Ut_qna_iwIeG"
      }
    },
    {
      "cell_type": "code",
      "source": [
        "def replace_domain(email, new, old=\"kaaj.com\"):\n",
        "\n",
        "    if old in email:\n",
        "        inX = email.index(\"@\") + 1\n",
        "        email = email[0:inX] + new\n",
        "    return email\n",
        "    \n",
        "    # process - 2:\n",
        "    # if old in email:\n",
        "    #     new_email = ''\n",
        "    #     for i in email:\n",
        "    #         x = ord(i)\n",
        "    #         if x == 64:\n",
        "    #             new_email += i\n",
        "    #             break\n",
        "    #         else:\n",
        "    #             new_email += i\n",
        "    #     new_email += new\n",
        "    # else:\n",
        "    #     new_email = email\n",
        "    # return new_email\n",
        "\n",
        "\n",
        "print(replace_domain(\"alice@kaaj.com\", 'sheba.xyz', \"kaaj.com\"))\n",
        "print(replace_domain(\"xavier@kaaj.com\", 'sheba.xyz'))\n",
        "print(replace_domain(\"bob@sheba.xyz\", 'sheba.xyz'))\n",
        "\n"
      ],
      "metadata": {
        "colab": {
          "base_uri": "https://localhost:8080/"
        },
        "id": "FEGZ0lH7wJac",
        "outputId": "ccad2889-260d-4d0d-ffa5-d44c85763277"
      },
      "execution_count": null,
      "outputs": [
        {
          "output_type": "stream",
          "name": "stdout",
          "text": [
            "alice@sheba.xyz\n",
            "xavier@sheba.xyz\n",
            "bob@sheba.xyz\n"
          ]
        }
      ]
    },
    {
      "cell_type": "markdown",
      "source": [
        "# ***Task 6***"
      ],
      "metadata": {
        "id": "86jPkj392_5O"
      }
    },
    {
      "cell_type": "code",
      "source": [
        "def count_vowels(name):\n",
        "    v = 'aeiou'\n",
        "    output = 'Vowels: '\n",
        "    n = 0\n",
        "    for ch in name:\n",
        "        if ch.lower() in v:\n",
        "            output += ch + ','\n",
        "            n += 1\n",
        "    if n == 0:\n",
        "        return 'No vowels in the name'\n",
        "    result = f'{output[0:-1]}. Total number of vowels:{n}'\n",
        "    return result\n",
        "print(count_vowels('Steve Jobs'))\n",
        "print(count_vowels('XYZ'))"
      ],
      "metadata": {
        "colab": {
          "base_uri": "https://localhost:8080/"
        },
        "id": "aLyxFbye3D01",
        "outputId": "f81a09fe-a59a-4b1d-a102-b3b960105b02"
      },
      "execution_count": null,
      "outputs": [
        {
          "output_type": "stream",
          "name": "stdout",
          "text": [
            "Vowels: e,e,o. Total number of vowels:3\n",
            "No vowels in the name\n"
          ]
        }
      ]
    },
    {
      "cell_type": "markdown",
      "source": [
        "# ***Task 7***"
      ],
      "metadata": {
        "id": "u1fI2jUjD29L"
      }
    },
    {
      "cell_type": "code",
      "source": [
        "def check_palindrome(word):\n",
        "    new = ''\n",
        "    word = word.replace(' ', '')\n",
        "    for i in range(1,len(word)+1):\n",
        "        x = -i\n",
        "        new += word[x]\n",
        "    if word == new:\n",
        "        return 'Palindrome'\n",
        "    else:\n",
        "        return \"Not a palindrome\"\n",
        "\n",
        "\n",
        "print(check_palindrome(\"madam\"))\n",
        "print(check_palindrome(\"hello\"))\n",
        "print(check_palindrome(\"nurses run\"))"
      ],
      "metadata": {
        "id": "LyZoyD_wD42y",
        "colab": {
          "base_uri": "https://localhost:8080/"
        },
        "outputId": "cc3d408c-39a4-4837-d383-1fea1a04d4a4"
      },
      "execution_count": null,
      "outputs": [
        {
          "output_type": "stream",
          "name": "stdout",
          "text": [
            "Palindrome\n",
            "Not a palindrome\n",
            "Palindrome\n"
          ]
        }
      ]
    },
    {
      "cell_type": "markdown",
      "source": [
        "# ***Task 8***"
      ],
      "metadata": {
        "id": "CPsq3DHQEOnV"
      }
    },
    {
      "cell_type": "code",
      "source": [
        "def convert(days):\n",
        "    years = days // 365\n",
        "    days = days % 365\n",
        "    months = days // 30\n",
        "    days = days % 30\n",
        "    return f'{years} years, {months} months and {days} days'\n",
        "\n",
        "print(convert(4320))\n",
        "print(convert(4000))"
      ],
      "metadata": {
        "colab": {
          "base_uri": "https://localhost:8080/"
        },
        "id": "1housLZrEQGc",
        "outputId": "fef95e9e-c5e0-4cee-fefc-1678d71f7af3"
      },
      "execution_count": null,
      "outputs": [
        {
          "output_type": "stream",
          "name": "stdout",
          "text": [
            "11 years, 10 months and 5 days\n",
            "10 years, 11 months and 20 days\n"
          ]
        }
      ]
    },
    {
      "cell_type": "markdown",
      "source": [
        "# ***Task 9***"
      ],
      "metadata": {
        "id": "NMou9dKouZs0"
      }
    },
    {
      "cell_type": "code",
      "source": [
        "def correction(paragraph):\n",
        "    paragraph = paragraph.split()\n",
        "    x = '.!?'\n",
        "    new = ''\n",
        "    modified = ''\n",
        "    for word in paragraph:\n",
        "        inX = paragraph.index(word)\n",
        "        if inX == 0:\n",
        "            modified = word[0].upper() + word[1::] + ' '\n",
        "        elif inX == len(paragraph)-1:\n",
        "            modified = word + ' '\n",
        "        else:\n",
        "            if 'i' == word:\n",
        "                paragraph[inX] = 'I'\n",
        "                word = paragraph[inX]\n",
        "            for l in word:\n",
        "                if l in x:\n",
        "                    cap = paragraph[inX+1][0]\n",
        "                    change = cap.upper() + paragraph[inX+1][1::]\n",
        "                    paragraph[inX+1] = change\n",
        "                    modified = word + ' '\n",
        "                else:\n",
        "                    modified = word + ' '\n",
        "        new += modified\n",
        "    return new\n",
        "\n",
        "print(correction('my favourite animal is a dog. a dog has sharp teeth so that it can eat flesh very easily. do you know my pet dog’s name? i love my pet very much.'))"
      ],
      "metadata": {
        "colab": {
          "base_uri": "https://localhost:8080/"
        },
        "id": "AmFo5PZFubKh",
        "outputId": "0c7fa99e-9df0-42a3-8275-2eae7fce39db"
      },
      "execution_count": null,
      "outputs": [
        {
          "output_type": "stream",
          "name": "stdout",
          "text": [
            "My favourite animal is a dog. A dog has sharp teeth so that it can eat flesh very easily. Do you know My pet dog’s name? I love My pet very much. \n"
          ]
        }
      ]
    }
  ]
}